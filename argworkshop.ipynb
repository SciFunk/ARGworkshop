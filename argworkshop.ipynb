{
 "cells": [
  {
   "cell_type": "markdown",
   "metadata": {},
   "source": [
    "# Day 1: \n",
    "## Presentation given by Emilia Huerta-Sanchez\n",
    "\n",
    "\n",
    "- Introduction to ancestral recombination graphs (ARG)\n",
    "- Installing Argweaver-D"
   ]
  },
  {
   "cell_type": "markdown",
   "metadata": {},
   "source": [
    "general relationship/overview"
   ]
  },
  {
   "cell_type": "markdown",
   "metadata": {},
   "source": [
    "![title](img\\\\1.jpg)"
   ]
  },
  {
   "cell_type": "markdown",
   "metadata": {},
   "source": [
    "recombination events, hard to keep track of long region, can't really do whole genomes"
   ]
  },
  {
   "cell_type": "markdown",
   "metadata": {},
   "source": [
    "![title](img\\\\2.jpg)"
   ]
  },
  {
   "cell_type": "markdown",
   "metadata": {},
   "source": [
    "sequentially markov coalescence, doesn't take the whole region, just moves along sequence and see what the genealogies are, easier to use whole genome"
   ]
  },
  {
   "cell_type": "markdown",
   "metadata": {},
   "source": [
    "![title](img\\\\3.jpg)"
   ]
  },
  {
   "cell_type": "markdown",
   "metadata": {},
   "source": [
    "installing argweaver\n",
    "\n",
    "git clone <link from argweaver github>\n",
    "cd argweaver\n",
    "make\n",
    "make install path=/where/you/want/argweaver/\n",
    "\n",
    "there was some problem with the python path, so we additionally had to do\n",
    "pip install --user\n",
    "\n",
    "then you can check using ./arg-sim which should give you a help menu\n",
    "make sure you're in argweaver/bin folder (there should be an arg-sim in that folder)"
   ]
  },
  {
   "cell_type": "markdown",
   "metadata": {},
   "source": [
    "---"
   ]
  },
  {
   "cell_type": "markdown",
   "metadata": {},
   "source": [
    "[This link](http://example.net/) has no title attribute."
   ]
  }
 ],
 "metadata": {
  "kernelspec": {
   "display_name": "Python 3",
   "language": "python",
   "name": "python3"
  },
  "language_info": {
   "codemirror_mode": {
    "name": "ipython",
    "version": 3
   },
   "file_extension": ".py",
   "mimetype": "text/x-python",
   "name": "python",
   "nbconvert_exporter": "python",
   "pygments_lexer": "ipython3",
   "version": "3.7.1"
  }
 },
 "nbformat": 4,
 "nbformat_minor": 2
}
